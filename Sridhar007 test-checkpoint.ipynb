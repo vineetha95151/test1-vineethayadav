{
 "cells": [
  {
   "cell_type": "code",
   "execution_count": 3,
   "metadata": {},
   "outputs": [
    {
     "name": "stdout",
     "output_type": "stream",
     "text": [
      "Inside h1 function\n",
      "Inside h2 function\n",
      "Inside h3 function\n"
     ]
    }
   ],
   "source": [
    "class test1:\n",
    "    class_var1 = 10\n",
    "    class_var2 = 20\n",
    "    \n",
    "    def h1(self):\n",
    "        print(\"Inside h1 function\")\n",
    "        \n",
    "    def h2(self):\n",
    "        return\"Inside h2 function\"\n",
    "    \n",
    "    def h3(self):\n",
    "        print(\"Inside h3 function\")\n",
    "        \n",
    "    def h4(self):\n",
    "        self.h1()\n",
    "        print(self.h2())\n",
    "        self.h3()\n",
    "        \n",
    "#create an object of the test1 class\n",
    "obj=test1()\n",
    "obj.h4()\n",
    "        "
   ]
  },
  {
   "cell_type": "code",
   "execution_count": null,
   "metadata": {},
   "outputs": [],
   "source": []
  }
 ],
 "metadata": {
  "kernelspec": {
   "display_name": "Python 3",
   "language": "python",
   "name": "python3"
  },
  "language_info": {
   "codemirror_mode": {
    "name": "ipython",
    "version": 3
   },
   "file_extension": ".py",
   "mimetype": "text/x-python",
   "name": "python",
   "nbconvert_exporter": "python",
   "pygments_lexer": "ipython3",
   "version": "3.8.3"
  }
 },
 "nbformat": 4,
 "nbformat_minor": 4
}
